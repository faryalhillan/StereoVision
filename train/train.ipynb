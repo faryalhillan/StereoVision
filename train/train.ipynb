{
 "cells": [
  {
   "cell_type": "code",
   "execution_count": null,
   "id": "276cec16",
   "metadata": {},
   "outputs": [],
   "source": [
    "from ultralytics import YOLO\n",
    "from datetime import datetime"
   ]
  },
  {
   "cell_type": "code",
   "execution_count": null,
   "id": "d0f7bfa1",
   "metadata": {},
   "outputs": [],
   "source": [
    "# Load YOLOv11 model configuration\n",
    "model = YOLO(\"yolo11s.pt\").to(\"cuda\")"
   ]
  },
  {
   "cell_type": "code",
   "execution_count": null,
   "id": "8dc3d9f4",
   "metadata": {},
   "outputs": [],
   "source": [
    "# Prepare training arguments\n",
    "timestamp = datetime.now().strftime(\"%Y%m%d_%H%M%S\")\n",
    "save_dir = f\"runs/train/{timestamp}\"\n",
    "train_args = {\n",
    "    \"data\": \"../data/dataset/data.yaml\",\n",
    "    \"epochs\": 150,\n",
    "    \"imgsz\": 1280,\n",
    "    \"batch\": 8,\n",
    "    \"patience\": 50,\n",
    "    \"save\": True,\n",
    "    \"optimizer\": \"AdamW\",\n",
    "    \"save_dir\": save_dir,\n",
    "    \"lr0\": 0.01,\n",
    "    \"close_mosaic\": 20,\n",
    "    \"name\": f\"train_{timestamp}\"\n",
    "}"
   ]
  },
  {
   "cell_type": "code",
   "execution_count": null,
   "id": "d81efcc4",
   "metadata": {},
   "outputs": [],
   "source": [
    "# Train model on custom dataset\n",
    "results = model.train(**train_args)"
   ]
  },
  {
   "cell_type": "code",
   "execution_count": null,
   "id": "0b91ebae",
   "metadata": {},
   "outputs": [],
   "source": [
    "metrics = model.val()\n",
    "print(metrics)"
   ]
  },
  {
   "cell_type": "code",
   "execution_count": null,
   "id": "913269e8",
   "metadata": {},
   "outputs": [],
   "source": [
    "# Print training results\n",
    "print(results)"
   ]
  },
  {
   "cell_type": "markdown",
   "id": "76c0e3b4",
   "metadata": {},
   "source": [
    "## Export to TensorRT"
   ]
  },
  {
   "cell_type": "code",
   "execution_count": null,
   "id": "5b8cb625",
   "metadata": {},
   "outputs": [],
   "source": [
    "# Optional: LOAD model\n",
    "model = YOLO(\"runs/detect/720_best/weights/best.pt\").to(\"cuda\")"
   ]
  },
  {
   "cell_type": "code",
   "execution_count": null,
   "id": "d0582e05",
   "metadata": {},
   "outputs": [],
   "source": [
    "model.export(\n",
    "    format=\"engine\",           \n",
    "    half=True,                \n",
    "    imgsz=1280,                    \n",
    "    batch=6,                   \n",
    "    dynamic=True,             \n",
    ")"
   ]
  }
 ],
 "metadata": {
  "kernelspec": {
   "display_name": "Python 3",
   "language": "python",
   "name": "python3"
  },
  "language_info": {
   "codemirror_mode": {
    "name": "ipython",
    "version": 3
   },
   "file_extension": ".py",
   "mimetype": "text/x-python",
   "name": "python",
   "nbconvert_exporter": "python",
   "pygments_lexer": "ipython3",
   "version": "3.12.10"
  }
 },
 "nbformat": 4,
 "nbformat_minor": 5
}
